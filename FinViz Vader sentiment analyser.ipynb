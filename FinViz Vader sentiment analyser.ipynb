{
 "cells": [
  {
   "cell_type": "markdown",
   "metadata": {},
   "source": [
    "# Sentiment scorer"
   ]
  },
  {
   "cell_type": "code",
   "execution_count": 1,
   "metadata": {},
   "outputs": [],
   "source": [
    "import time\n",
    "import pandas as pd\n",
    "import matplotlib.pyplot as plt"
   ]
  },
  {
   "cell_type": "code",
   "execution_count": 2,
   "metadata": {},
   "outputs": [],
   "source": [
    "from urllib.request import urlopen, Request\n",
    "from bs4 import BeautifulSoup\n",
    "from nltk.sentiment.vader import SentimentIntensityAnalyzer"
   ]
  },
  {
   "cell_type": "markdown",
   "metadata": {},
   "source": [
    "### Ticker acquisition"
   ]
  },
  {
   "cell_type": "code",
   "execution_count": 3,
   "metadata": {},
   "outputs": [],
   "source": [
    "tickers = []"
   ]
  },
  {
   "cell_type": "markdown",
   "metadata": {},
   "source": [
    "Option 1 - Function for scraping yahoo finance tables"
   ]
  },
  {
   "cell_type": "code",
   "execution_count": 4,
   "metadata": {},
   "outputs": [],
   "source": [
    "def yahoo_stock_table_scrape(yahoo_tab,table_id):\n",
    "    stock_table_url = 'https://finance.yahoo.com/' + yahoo_tab\n",
    "    req = Request(url = stock_table_url, headers = {'user-agent':'my-app'})\n",
    "    response = urlopen(req)\n",
    "    html = BeautifulSoup(response, 'html')\n",
    "    yahoo_table = html.find(id = table_id)\n",
    "    yahoo_parsed_data = []\n",
    "    for row in yahoo_table.findAll('tr')[1:]:\n",
    "        ticker = row.a.text\n",
    "        yahoo_parsed_data.append(ticker)\n",
    "    yahoo_tickers = yahoo_parsed_data[:5]\n",
    "    return yahoo_tickers"
   ]
  },
  {
   "cell_type": "markdown",
   "metadata": {},
   "source": [
    "Option 2 - User input"
   ]
  },
  {
   "cell_type": "code",
   "execution_count": 5,
   "metadata": {},
   "outputs": [
    {
     "name": "stdin",
     "output_type": "stream",
     "text": [
      "Please input the ticker for stock 1 AAPL\n",
      "Please input the ticker for stock 2 AMZN\n",
      "Please input the ticker for stock 3 TSLA\n",
      "Please input the ticker for stock 4 GOOGL\n",
      "Please input the ticker for stock 5 DOD\n"
     ]
    },
    {
     "name": "stdout",
     "output_type": "stream",
     "text": [
      "['AAPL', 'AMZN', 'TSLA', 'GOOGL', 'DOD']\n"
     ]
    }
   ],
   "source": [
    "for i in range(5):\n",
    "    ticker = str(input(f'Please input the ticker for stock {i+1}'))\n",
    "    ticker = [ticker]\n",
    "    tickers.extend(ticker)\n",
    "print(tickers)"
   ]
  },
  {
   "cell_type": "markdown",
   "metadata": {},
   "source": [
    "### Finviz news"
   ]
  },
  {
   "cell_type": "code",
   "execution_count": 6,
   "metadata": {},
   "outputs": [
    {
     "name": "stdout",
     "output_type": "stream",
     "text": [
      "DOD not available\n"
     ]
    }
   ],
   "source": [
    "news_tables = {}\n",
    "\n",
    "for i, ticker in enumerate(tickers):\n",
    "    ticker_url = 'https://finviz.com/quote.ashx?t=' + ticker\n",
    "    req = Request(url = ticker_url, headers = {'user-agent':'my-app'})\n",
    "    try:\n",
    "        response = urlopen(req)\n",
    "    except:\n",
    "        print(f'{ticker} not available')\n",
    "    else:\n",
    "        html = BeautifulSoup(response, 'html')\n",
    "        news_table = html.find(id = 'news-table')\n",
    "        news_tables[ticker] = news_table"
   ]
  },
  {
   "cell_type": "code",
   "execution_count": 7,
   "metadata": {},
   "outputs": [],
   "source": [
    "finviz_parsed_data = []\n",
    "\n",
    "for ticker, news_table in news_tables.items():\n",
    "    \n",
    "    for row in news_table.findAll('tr'):\n",
    "        title = row.a.text # use get_text instead of text, essentially same thing\n",
    "        date_data = row.td.text.split(' ') # split on spaces for when it gives us both the date and time\n",
    "        \n",
    "        if len(date_data) == 1: # then only have timestamp, and it's greater than 1 then we have data and time\n",
    "            time = date_data[0]\n",
    "        else:\n",
    "            date = date_data[0]\n",
    "            time = date_data[1]\n",
    "            \n",
    "        finviz_parsed_data.append([ticker, date, time, title])"
   ]
  },
  {
   "cell_type": "markdown",
   "metadata": {},
   "source": [
    "### Sentiment analyser"
   ]
  },
  {
   "cell_type": "code",
   "execution_count": 8,
   "metadata": {},
   "outputs": [
    {
     "data": {
      "text/html": [
       "<div>\n",
       "<style scoped>\n",
       "    .dataframe tbody tr th:only-of-type {\n",
       "        vertical-align: middle;\n",
       "    }\n",
       "\n",
       "    .dataframe tbody tr th {\n",
       "        vertical-align: top;\n",
       "    }\n",
       "\n",
       "    .dataframe thead th {\n",
       "        text-align: right;\n",
       "    }\n",
       "</style>\n",
       "<table border=\"1\" class=\"dataframe\">\n",
       "  <thead>\n",
       "    <tr style=\"text-align: right;\">\n",
       "      <th></th>\n",
       "      <th>ticker</th>\n",
       "      <th>date</th>\n",
       "      <th>time</th>\n",
       "      <th>title</th>\n",
       "      <th>score</th>\n",
       "    </tr>\n",
       "  </thead>\n",
       "  <tbody>\n",
       "    <tr>\n",
       "      <th>0</th>\n",
       "      <td>AAPL</td>\n",
       "      <td>2021-11-15</td>\n",
       "      <td>08:25AM</td>\n",
       "      <td>10 Stocks To Invest In According To Stephen Er...</td>\n",
       "      <td>0.0000</td>\n",
       "    </tr>\n",
       "    <tr>\n",
       "      <th>1</th>\n",
       "      <td>AAPL</td>\n",
       "      <td>2021-11-14</td>\n",
       "      <td>10:38PM</td>\n",
       "      <td>Apple TV+ hopes to build on rivals' success wi...</td>\n",
       "      <td>0.7579</td>\n",
       "    </tr>\n",
       "    <tr>\n",
       "      <th>2</th>\n",
       "      <td>AAPL</td>\n",
       "      <td>2021-11-14</td>\n",
       "      <td>02:16PM</td>\n",
       "      <td>Apple Working On Privacy Glasses For iPhones T...</td>\n",
       "      <td>-0.4404</td>\n",
       "    </tr>\n",
       "    <tr>\n",
       "      <th>3</th>\n",
       "      <td>AAPL</td>\n",
       "      <td>2021-11-14</td>\n",
       "      <td>09:06AM</td>\n",
       "      <td>Top 10 Stock Picks of Donald Sussmans Paloma P...</td>\n",
       "      <td>0.2023</td>\n",
       "    </tr>\n",
       "    <tr>\n",
       "      <th>4</th>\n",
       "      <td>AAPL</td>\n",
       "      <td>2021-11-14</td>\n",
       "      <td>06:30AM</td>\n",
       "      <td>H&amp;Ms Tech Chief Wants Clothes to Compete With ...</td>\n",
       "      <td>0.0000</td>\n",
       "    </tr>\n",
       "  </tbody>\n",
       "</table>\n",
       "</div>"
      ],
      "text/plain": [
       "  ticker        date       time  \\\n",
       "0   AAPL  2021-11-15  08:25AM     \n",
       "1   AAPL  2021-11-14  10:38PM     \n",
       "2   AAPL  2021-11-14  02:16PM     \n",
       "3   AAPL  2021-11-14  09:06AM     \n",
       "4   AAPL  2021-11-14  06:30AM     \n",
       "\n",
       "                                               title   score  \n",
       "0  10 Stocks To Invest In According To Stephen Er...  0.0000  \n",
       "1  Apple TV+ hopes to build on rivals' success wi...  0.7579  \n",
       "2  Apple Working On Privacy Glasses For iPhones T... -0.4404  \n",
       "3  Top 10 Stock Picks of Donald Sussmans Paloma P...  0.2023  \n",
       "4  H&Ms Tech Chief Wants Clothes to Compete With ...  0.0000  "
      ]
     },
     "execution_count": 8,
     "metadata": {},
     "output_type": "execute_result"
    }
   ],
   "source": [
    "df = pd.DataFrame(finviz_parsed_data, columns = ['ticker','date','time','title'])\n",
    "vader = SentimentIntensityAnalyzer()\n",
    "df['score'] = df['title'].apply(lambda title : vader.polarity_scores(title)['compound'])\n",
    "df['date'] = pd.to_datetime(df.date).dt.date # convert string to date type format\n",
    "df.head()"
   ]
  },
  {
   "cell_type": "code",
   "execution_count": 9,
   "metadata": {},
   "outputs": [
    {
     "data": {
      "text/plain": [
       "<Figure size 1440x720 with 0 Axes>"
      ]
     },
     "metadata": {},
     "output_type": "display_data"
    },
    {
     "data": {
      "image/png": "[encoded data removed]",
      "text/plain": [
       "<Figure size 432x288 with 1 Axes>"
      ]
     },
     "metadata": {
      "needs_background": "light"
     },
     "output_type": "display_data"
    }
   ],
   "source": [
    "plt.figure(figsize = (20,10))\n",
    "mean_df = df.groupby(['ticker','date']).mean()\n",
    "mean_df = mean_df.unstack()\n",
    "mean_df = mean_df.xs('score', axis = \"columns\").transpose()\n",
    "mean_df.plot(kind = 'bar')\n",
    "plt.xticks(rotation = 90)\n",
    "plt.show()"
   ]
  }
 ],
 "metadata": {
  "kernelspec": {
   "display_name": "Python 3",
   "language": "python",
   "name": "python3"
  },
  "language_info": {
   "codemirror_mode": {
    "name": "ipython",
    "version": 3
   },
   "file_extension": ".py",
   "mimetype": "text/x-python",
   "name": "python",
   "nbconvert_exporter": "python",
   "pygments_lexer": "ipython3",
   "version": "3.8.3"
  }
 },
 "nbformat": 4,
 "nbformat_minor": 4
}
